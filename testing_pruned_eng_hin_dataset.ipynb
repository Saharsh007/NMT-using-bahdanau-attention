{
  "nbformat": 4,
  "nbformat_minor": 0,
  "metadata": {
    "colab": {
      "name": "testing pruned eng-hin dataset.ipynb",
      "provenance": [],
      "collapsed_sections": [],
      "machine_shape": "hm"
    },
    "kernelspec": {
      "name": "python3",
      "display_name": "Python 3"
    }
  },
  "cells": [
    {
      "cell_type": "code",
      "metadata": {
        "id": "6tkj-t3DQGHW",
        "colab_type": "code",
        "colab": {
          "base_uri": "https://localhost:8080/",
          "height": 63
        },
        "outputId": "74cbade2-81f1-474d-c55e-55dc5f98bd8e"
      },
      "source": [
        "\n",
        "import tensorflow as tf\n",
        "tf.enable_eager_execution()\n",
        "from __future__ import absolute_import, division, print_function, unicode_literals\n",
        "\n",
        "\n",
        "import matplotlib.pyplot as plt\n",
        "import matplotlib.ticker as ticker\n",
        "from sklearn.model_selection import train_test_split\n",
        "\n",
        "import unicodedata\n",
        "import re\n",
        "import numpy as np\n",
        "import os\n",
        "import io\n",
        "import time\n",
        "import string"
      ],
      "execution_count": 1,
      "outputs": [
        {
          "output_type": "display_data",
          "data": {
            "text/html": [
              "<p style=\"color: red;\">\n",
              "The default version of TensorFlow in Colab will soon switch to TensorFlow 2.x.<br>\n",
              "We recommend you <a href=\"https://www.tensorflow.org/guide/migrate\" target=\"_blank\">upgrade</a> now \n",
              "or ensure your notebook will continue to use TensorFlow 1.x via the <code>%tensorflow_version 1.x</code> magic:\n",
              "<a href=\"https://colab.research.google.com/notebooks/tensorflow_version.ipynb\" target=\"_blank\">more info</a>.</p>\n"
            ],
            "text/plain": [
              "<IPython.core.display.HTML object>"
            ]
          },
          "metadata": {
            "tags": []
          }
        }
      ]
    },
    {
      "cell_type": "code",
      "metadata": {
        "id": "uqfqvGfiaSm-",
        "colab_type": "code",
        "colab": {
          "base_uri": "https://localhost:8080/",
          "height": 34
        },
        "outputId": "3cab7e4a-336f-42ad-8e7d-3b6a0264ef21"
      },
      "source": [
        "!ls"
      ],
      "execution_count": 2,
      "outputs": [
        {
          "output_type": "stream",
          "text": [
            "prunedCorpus.tar.gz  pruned_train.en  pruned_train.hi  sample_data\n"
          ],
          "name": "stdout"
        }
      ]
    },
    {
      "cell_type": "code",
      "metadata": {
        "id": "krN2hgz1RT_T",
        "colab_type": "code",
        "colab": {
          "base_uri": "https://localhost:8080/",
          "height": 255
        },
        "outputId": "0ec2cec4-3b0c-45a1-b138-9d062262d0c8"
      },
      "source": [
        "# download dataset\n",
        "!wget 'http://www.cfilt.iitb.ac.in/~moses/iitb_en_hi_parallel/iitb_corpus_download/prunedCorpus.tar.gz'\n",
        "!ls\n",
        "# !unzip 'prunedCorpus.tar.gz'\n",
        "!tar -xvzf 'prunedCorpus.tar.gz'"
      ],
      "execution_count": 2,
      "outputs": [
        {
          "output_type": "stream",
          "text": [
            "--2020-03-19 19:29:38--  http://www.cfilt.iitb.ac.in/~moses/iitb_en_hi_parallel/iitb_corpus_download/prunedCorpus.tar.gz\n",
            "Resolving www.cfilt.iitb.ac.in (www.cfilt.iitb.ac.in)... 103.21.127.130\n",
            "Connecting to www.cfilt.iitb.ac.in (www.cfilt.iitb.ac.in)|103.21.127.130|:80... connected.\n",
            "HTTP request sent, awaiting response... 200 OK\n",
            "Length: 84265584 (80M) [application/x-gzip]\n",
            "Saving to: ‘prunedCorpus.tar.gz’\n",
            "\n",
            "prunedCorpus.tar.gz 100%[===================>]  80.36M   766KB/s    in 79s     \n",
            "\n",
            "2020-03-19 19:30:58 (1.02 MB/s) - ‘prunedCorpus.tar.gz’ saved [84265584/84265584]\n",
            "\n",
            "prunedCorpus.tar.gz  sample_data\n",
            "pruned_train.en\n",
            "pruned_train.hi\n"
          ],
          "name": "stdout"
        }
      ]
    },
    {
      "cell_type": "code",
      "metadata": {
        "id": "gQMbfKXoQR88",
        "colab_type": "code",
        "colab": {}
      },
      "source": [
        "\n",
        "lines_hin = io.open('pruned_train.hi', encoding='UTF-8').read().strip().split('\\n')\n",
        "path_to_file = 'pruned_train.hi'\n",
        "\n",
        "lines_eng = io.open('pruned_train.en', encoding='UTF-8').read().strip().split('\\n')\n",
        "path_to_file = 'pruned_train.en'"
      ],
      "execution_count": 0,
      "outputs": []
    },
    {
      "cell_type": "code",
      "metadata": {
        "id": "WqmcMx0mQV0W",
        "colab_type": "code",
        "colab": {}
      },
      "source": [
        "eng_sent = []\n",
        "hin_sent = []\n",
        "for i in range(len(lines_hin)):\n",
        "  # splits = line.split('\\t')\n",
        "  #removing extra stuffs \n",
        "  eng = lines_eng[i]\n",
        "  hin = lines_hin[i]\n",
        "  # remove punctutation and make lower case\n",
        "  eng = eng.translate(str.maketrans('', '', string.punctuation))\n",
        "  eng = eng.lower()\n",
        "  hin = hin.translate(str.maketrans('', '', string.punctuation))\n",
        "  eng = '<start> ' + eng + ' <end>'\n",
        "  hin = '<start> ' + hin + ' <end>'\n",
        "  eng_sent.append(eng)\n",
        "  hin_sent.append(hin)"
      ],
      "execution_count": 0,
      "outputs": []
    },
    {
      "cell_type": "code",
      "metadata": {
        "id": "T126ZRXrQY-a",
        "colab_type": "code",
        "colab": {}
      },
      "source": [
        "eng_len = []\n",
        "hin_len = []\n",
        "y = []\n",
        "for i in range(len(eng_sent)):\n",
        "  eng_len.append(len(eng_sent[i]))\n",
        "  hin_len.append(len(hin_sent[i]))\n",
        "  y.append(i)\n"
      ],
      "execution_count": 0,
      "outputs": []
    },
    {
      "cell_type": "code",
      "metadata": {
        "id": "Uu7ew0cJQmZu",
        "colab_type": "code",
        "colab": {}
      },
      "source": [
        "# plt.plot(eng_sent, y) \n",
        "# plt.show"
      ],
      "execution_count": 0,
      "outputs": []
    },
    {
      "cell_type": "markdown",
      "metadata": {
        "id": "BrNTgmvYU_B-",
        "colab_type": "text"
      },
      "source": [
        "# the above stunt didn't work as we can't plot 7 lakhs examples at once , now i'll look at alternatives"
      ]
    },
    {
      "cell_type": "code",
      "metadata": {
        "id": "cOjG-WwJREYu",
        "colab_type": "code",
        "colab": {
          "base_uri": "https://localhost:8080/",
          "height": 51
        },
        "outputId": "812dd58e-f1e0-4ddb-b5a5-952a04654537"
      },
      "source": [
        "fifty = 0\n",
        "hun = 0\n",
        "twohun = 0\n",
        "higher = 0\n",
        "\n",
        "for i in eng_len:\n",
        "  if i <= 50:\n",
        "    fifty += 1\n",
        "  elif i<=100:\n",
        "    hun += 1\n",
        "  elif i<=200:\n",
        "    twohun += 1\n",
        "  else:\n",
        "    higher += 1\n",
        "print(fifty,hun,twohun,higher)\n",
        "\n",
        "fifty = 0\n",
        "hun = 0\n",
        "twohun = 0\n",
        "higher = 0\n",
        "for i in hin_len:\n",
        "  if i <= 50:\n",
        "    fifty += 1\n",
        "  elif i<=100 and i>50:\n",
        "    hun += 1\n",
        "  elif i<=200 and i > 100:\n",
        "    twohun += 1\n",
        "  else: \n",
        "    higher += 1\n",
        "print(fifty,hun,twohun,higher)"
      ],
      "execution_count": 13,
      "outputs": [
        {
          "output_type": "stream",
          "text": [
            "117016 296694 276972 97416\n",
            "127300 300345 269980 90473\n"
          ],
          "name": "stdout"
        }
      ]
    },
    {
      "cell_type": "code",
      "metadata": {
        "id": "WCh_8kB9bfEx",
        "colab_type": "code",
        "colab": {
          "base_uri": "https://localhost:8080/",
          "height": 34
        },
        "outputId": "8ec1bbe4-8d94-4147-e28b-157e655984a3"
      },
      "source": [
        "print(len(hin_len))"
      ],
      "execution_count": 14,
      "outputs": [
        {
          "output_type": "stream",
          "text": [
            "788098\n"
          ],
          "name": "stdout"
        }
      ]
    },
    {
      "cell_type": "markdown",
      "metadata": {
        "id": "0CSvQ9APcEvK",
        "colab_type": "text"
      },
      "source": [
        "# this is somewhat promising as we have more than 1 lakhs less than 50 words now let's check if both pairs are less than 50 or not"
      ]
    },
    {
      "cell_type": "code",
      "metadata": {
        "id": "N7wXWh56bwNg",
        "colab_type": "code",
        "colab": {
          "base_uri": "https://localhost:8080/",
          "height": 34
        },
        "outputId": "151efd9a-091d-4e14-e471-fd38f9340bfa"
      },
      "source": [
        "useable = 0\n",
        "for i in range(len(eng_len)):\n",
        "  if eng_len[i] < 50 and hin_len[i] < 50:\n",
        "    useable += 1\n",
        "print(useable)"
      ],
      "execution_count": 15,
      "outputs": [
        {
          "output_type": "stream",
          "text": [
            "90900\n"
          ],
          "name": "stdout"
        }
      ]
    },
    {
      "cell_type": "markdown",
      "metadata": {
        "id": "vbbPXvdIcnEe",
        "colab_type": "text"
      },
      "source": [
        "# Good good  90k examples with len less than 50 words let's use them and see if we can train the network then"
      ]
    },
    {
      "cell_type": "code",
      "metadata": {
        "id": "HfeUts_7cjrX",
        "colab_type": "code",
        "colab": {}
      },
      "source": [
        "eng_sent = []\n",
        "hin_sent = []\n",
        "for i in range(len(lines_hin)):\n",
        "  # splits = line.split('\\t')\n",
        "  #removing extra stuffs \n",
        "  eng = lines_eng[i]\n",
        "  hin = lines_hin[i]\n",
        "  # remove punctutation and make lower case\n",
        "  eng = eng.translate(str.maketrans('', '', string.punctuation))\n",
        "  eng = eng.lower()\n",
        "  hin = hin.translate(str.maketrans('', '', string.punctuation))\n",
        "  eng = '<start> ' + eng + ' <end>'\n",
        "  hin = '<start> ' + hin + ' <end>'\n",
        "  if len(eng) <= 50:\n",
        "    eng_sent.append(eng)\n",
        "  if len(hin) <= 50:\n",
        "    hin_sent.append(hin)"
      ],
      "execution_count": 0,
      "outputs": []
    }
  ]
}
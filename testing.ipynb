{
 "cells": [
  {
   "cell_type": "code",
   "execution_count": 1,
   "metadata": {},
   "outputs": [
    {
     "name": "stderr",
     "output_type": "stream",
     "text": [
      "Using TensorFlow backend.\n"
     ]
    }
   ],
   "source": [
    "from keras.models import Model\n",
    "from keras.layers import Input\n",
    "from keras.layers import GRU\n",
    "import numpy as  np\n",
    "from numpy import array\n",
    "import tensorflow as tf\n",
    "import numpy"
   ]
  },
  {
   "cell_type": "markdown",
   "metadata": {},
   "source": [
    "## output of GRU for one timestep given return sequences and return state is true"
   ]
  },
  {
   "cell_type": "code",
   "execution_count": 8,
   "metadata": {},
   "outputs": [
    {
     "name": "stdout",
     "output_type": "stream",
     "text": [
      "[array([[[-0.04497656]]], dtype=float32), array([[-0.04497656]], dtype=float32)]\n"
     ]
    }
   ],
   "source": [
    "\n",
    "\n",
    "# define model\n",
    "inputs1 = Input(shape=(1, 1))\n",
    "lstm1, state_h = GRU(1, return_sequences=True, return_state=True)(inputs1)\n",
    "model = Model(inputs=inputs1, outputs=[lstm1, state_h])\n",
    "# define input data\n",
    "data = array([0.1]).reshape((1,1,1))\n",
    "# make and show prediction\n",
    "print(model.predict(data))\n"
   ]
  },
  {
   "cell_type": "code",
   "execution_count": 22,
   "metadata": {},
   "outputs": [],
   "source": [
    "output = model.predict(data)"
   ]
  },
  {
   "cell_type": "code",
   "execution_count": 23,
   "metadata": {},
   "outputs": [],
   "source": [
    "output1 = output[0]\n",
    "output2 = output[1]"
   ]
  },
  {
   "cell_type": "code",
   "execution_count": 24,
   "metadata": {},
   "outputs": [
    {
     "name": "stdout",
     "output_type": "stream",
     "text": [
      "[[[-0.04497656]]]\n",
      "[[-0.04497656]]\n"
     ]
    }
   ],
   "source": [
    "print(output1)\n",
    "print(output2)"
   ]
  },
  {
   "cell_type": "markdown",
   "metadata": {},
   "source": [
    "### notice output 1 is 3d array that is it's shape is (batch_size,time_steps,units_in_hidden_state)\n",
    "units_in_hidden_state = 1"
   ]
  },
  {
   "cell_type": "code",
   "execution_count": null,
   "metadata": {},
   "outputs": [],
   "source": []
  },
  {
   "cell_type": "markdown",
   "metadata": {},
   "source": [
    "## Explanation of code below"
   ]
  },
  {
   "cell_type": "code",
   "execution_count": 22,
   "metadata": {},
   "outputs": [],
   "source": [
    "'''\n",
    "In the snippet below, there is a single floating point value per example for\n",
    "`y_true` and `# classes` floating pointing values per example for `y_pred`.\n",
    "The shape of `y_true` is `[batch_size]` and the shape of `y_pred` is\n",
    "`[batch_size, num_classes]`.\n",
    "'''\n",
    "\n",
    "'''\n",
    "cce = tf.keras.losses.SparseCategoricalCrossentropy()\n",
    "loss = cce(\n",
    "  [0, 1, 2],\n",
    "  [[.9, .05, .05], [.5, .89, .6], [.05, .01, .94]])\n",
    "print('Loss: ', loss.numpy())  # Loss: 0.3239\n",
    "'''\n",
    "loss_object = tf.keras.losses.SparseCategoricalCrossentropy(\n",
    "    from_logits=True, reduction='none')\n",
    "\n",
    "def loss_function(real, pred):\n",
    "    # tf.math.logical - Returns the truth value of NOT x element-wise.\n",
    "    # tf.math.equal - Returns the truth value of (x == y) element-wise.\n",
    "    # Since we padded zeros into the sequences, let’s not take those zeros into account when computing the loss:\n",
    "    mask = tf.math.logical_not(tf.math.equal(real, 0))\n",
    "    # loss as defined in the image above\n",
    "    loss_ = loss_object(real, pred)\n",
    "    print(type(loss_))\n",
    "    tf.print(loss_)\n",
    "    mask = tf.cast(mask, dtype=loss_.dtype)\n",
    "    loss_ *= mask\n",
    "\n",
    "    return tf.reduce_mean(loss_)\n",
    "\n"
   ]
  },
  {
   "cell_type": "code",
   "execution_count": 23,
   "metadata": {},
   "outputs": [
    {
     "name": "stdout",
     "output_type": "stream",
     "text": [
      "<class 'tensorflow.python.framework.ops.Tensor'>\n"
     ]
    },
    {
     "data": {
      "text/plain": [
       "<tf.Tensor 'Mean_4:0' shape=() dtype=float32>"
      ]
     },
     "execution_count": 23,
     "metadata": {},
     "output_type": "execute_result"
    }
   ],
   "source": [
    "real = tf.convert_to_tensor([1,0,2])\n",
    "pred = tf.convert_to_tensor([[.5,.5,0],[.5,.7,.8],[.98,.9,.99]])\n",
    "\n",
    "loss_function(real,pred)"
   ]
  },
  {
   "cell_type": "code",
   "execution_count": null,
   "metadata": {},
   "outputs": [],
   "source": []
  },
  {
   "cell_type": "code",
   "execution_count": null,
   "metadata": {},
   "outputs": [],
   "source": []
  }
 ],
 "metadata": {
  "kernelspec": {
   "display_name": "Python 3",
   "language": "python",
   "name": "python3"
  },
  "language_info": {
   "codemirror_mode": {
    "name": "ipython",
    "version": 3
   },
   "file_extension": ".py",
   "mimetype": "text/x-python",
   "name": "python",
   "nbconvert_exporter": "python",
   "pygments_lexer": "ipython3",
   "version": "3.7.3"
  }
 },
 "nbformat": 4,
 "nbformat_minor": 2
}
